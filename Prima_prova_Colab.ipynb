{
  "nbformat": 4,
  "nbformat_minor": 0,
  "metadata": {
    "colab": {
      "name": "Prima_prova_Colab.ipynb",
      "provenance": [],
      "collapsed_sections": [],
      "authorship_tag": "ABX9TyPsrfndzqpaOuP+Bud5I4B/",
      "include_colab_link": true
    },
    "kernelspec": {
      "name": "python3",
      "display_name": "Python 3"
    },
    "language_info": {
      "name": "python"
    }
  },
  "cells": [
    {
      "cell_type": "markdown",
      "metadata": {
        "id": "view-in-github",
        "colab_type": "text"
      },
      "source": [
        "<a href=\"https://colab.research.google.com/github/Utuze27/Utuze27/blob/main/Prima_prova_Colab.ipynb\" target=\"_parent\"><img src=\"https://colab.research.google.com/assets/colab-badge.svg\" alt=\"Open In Colab\"/></a>"
      ]
    },
    {
      "cell_type": "code",
      "metadata": {
        "colab": {
          "base_uri": "https://localhost:8080/"
        },
        "id": "OtQYtow61zlX",
        "outputId": "6e667b01-91f9-4c39-808e-6901492e6157"
      },
      "source": [
        "def convert_to_morse(code):\n",
        "  code = code.replace(\"1\", \".----\")\n",
        "  code = code.replace(\"2\", \"..---\")\n",
        "  code = code.replace(\"3\", \"...--\")\n",
        "  code = code.replace(\"4\", \"....-\")\n",
        "  code = code.replace(\"5\", \".....\")\n",
        "  code = code.replace(\"6\", \"-....\")\n",
        "  code = code.replace(\"7\", \"--...\")\n",
        "  code = code.replace(\"8\", \"---..\")\n",
        "  code = code.replace(\"9\", \"----.\")\n",
        "  code = code.replace(\"0\", \"-----\")\n",
        "  return code\n",
        " \n",
        "\n",
        "lock_code = \"1 2 2 5 0\"\n",
        "print(f\"Initial code: {lock_code}\")\n",
        "\n",
        "morse = convert_to_morse(lock_code)\n",
        "print(f\"Morse code: {morse}\")"
      ],
      "execution_count": null,
      "outputs": [
        {
          "output_type": "stream",
          "name": "stdout",
          "text": [
            "Initial code: 1 2 2 5 0\n",
            "Morse code: .---- ..--- ..--- ..... -----\n"
          ]
        }
      ]
    },
    {
      "cell_type": "code",
      "metadata": {
        "colab": {
          "base_uri": "https://localhost:8080/"
        },
        "id": "rHaSMf8D2sZA",
        "outputId": "5818d791-4c84-4e44-8440-95392290a287"
      },
      "source": [
        "name_box = \"Alice Bentall\"\n",
        "age_box = \"20\"\n",
        "uni_box = \"\"\n",
        "subs_box = \"1.99\"\n",
        "mkt_box = \"0\"\n",
        "\n",
        "name_entered = bool (name_box)\n",
        "if name_entered:\n",
        "  name = name_box\n",
        "else:\n",
        "  name =\"Unknown\"\n",
        "\n",
        "age = int(age_box)\n",
        "student = bool (uni_box)\n",
        "subscription = float (subs_box)\n",
        "marketing = bool (int(mkt_box))\n",
        "\n",
        "profile = name + ',' + str(age)\n",
        "print(profile)"
      ],
      "execution_count": null,
      "outputs": [
        {
          "output_type": "stream",
          "name": "stdout",
          "text": [
            "Alice Bentall,20\n"
          ]
        }
      ]
    },
    {
      "cell_type": "code",
      "metadata": {
        "colab": {
          "base_uri": "https://localhost:8080/"
        },
        "id": "r_h7-Cbl4lfl",
        "outputId": "ff0ee74d-7746-40e8-cb75-4b66539a8f06"
      },
      "source": [
        "stock = 74\n",
        "item = \"webcames\"\n",
        "orders = 18\n",
        "print(f\"{stock} {item} in stock\")\n",
        "print(f\"{orders} customer orders\")\n",
        "print(f\"{stock - orders} available\")"
      ],
      "execution_count": null,
      "outputs": [
        {
          "output_type": "stream",
          "name": "stdout",
          "text": [
            "74 webcames in stock\n",
            "18 customer orders\n",
            "56 available\n"
          ]
        }
      ]
    },
    {
      "cell_type": "code",
      "metadata": {
        "colab": {
          "base_uri": "https://localhost:8080/"
        },
        "id": "owo2cT9w56db",
        "outputId": "6f57ec9a-10d2-4c7a-98ea-3bbc3aa374c8"
      },
      "source": [
        "player_1 = \"Sam\"\n",
        "player_2 = \"Alex\"\n",
        "current_round = 1\n",
        "\n",
        "print(\"Game on!\")\n",
        "print(f\"player 1: {player_1}\")\n",
        "print(f\"player 2: {player_2}\")\n",
        "print(\"-------------------------\")\n",
        "\n",
        "print(f\"Round {current_round}\")\n",
        "player_1_score = 10\n",
        "player_2_score = 13\n",
        "print(f\"{player_2} wins with {player_2_score} to {player_1_score}\")\n",
        "print(\"-------------------------\")\n",
        "\n",
        "print(f\"Round {current_round + 1}!\")\n",
        "player_1_score = 20\n",
        "player_2_score = 5\n",
        "print(f\"{player_1} defeats {player_2} by {player_1_score - player_2_score} points!\")"
      ],
      "execution_count": null,
      "outputs": [
        {
          "output_type": "stream",
          "name": "stdout",
          "text": [
            "Game on!\n",
            "player 1: Sam\n",
            "player 2: Alex\n",
            "-------------------------\n",
            "Round 1\n",
            "Alex wins with 13 to 10\n",
            "-------------------------\n",
            "Round 2!\n",
            "Sam defeats Alex by 15 points!\n"
          ]
        }
      ]
    },
    {
      "cell_type": "code",
      "metadata": {
        "id": "026NBdRtN48T",
        "colab": {
          "base_uri": "https://localhost:8080/"
        },
        "outputId": "5f5da5c5-c2e3-46f2-9bbb-4f4de32d2e87"
      },
      "source": [
        "sequences = \"tatgctttcc#tataggtctg#ctattcaatg\"\n",
        "dna_list = sequences.split ('#')\n",
        "print(dna_list)\n",
        "\n",
        "for dna in dna_list:\n",
        "  rna= dna.replace(\"t\", \"u\")\n",
        "  print (f\"DNA: {dna} -> RNA: {rna}\")"
      ],
      "execution_count": 3,
      "outputs": [
        {
          "output_type": "stream",
          "name": "stdout",
          "text": [
            "['tatgctttcc', 'tataggtctg', 'ctattcaatg']\n",
            "DNA: tatgctttcc -> RNA: uaugcuuucc\n",
            "DNA: tataggtctg -> RNA: uauaggucug\n",
            "DNA: ctattcaatg -> RNA: cuauucaaug\n"
          ]
        }
      ]
    },
    {
      "cell_type": "code",
      "metadata": {
        "colab": {
          "base_uri": "https://localhost:8080/"
        },
        "id": "d2C0-GXMT4V4",
        "outputId": "19e793d3-8cea-4528-b751-d62d6cbbb21b"
      },
      "source": [
        "def schedule_classes (classes, times):\n",
        "  schedule = []\n",
        "\n",
        "  index = 0\n",
        "  while index < len(classes):\n",
        "    scheduled_class = classes[index] + \": \" + times[index]\n",
        "    schedule.append(scheduled_class)\n",
        "    index += 1\n",
        "\n",
        "  return schedule\n",
        "\n",
        "classes = [\"Algebra\", \"History\", \"Biology\", \"Swimming\"]\n",
        "times = [\"9a.m\", \"11a.m\", \"1p.m\", \"3p.m\"]\n",
        "schedule = schedule_classes(classes, times)\n",
        "\n",
        "print(f\"Monday's schedule: {schedule}\")"
      ],
      "execution_count": 6,
      "outputs": [
        {
          "output_type": "stream",
          "name": "stdout",
          "text": [
            "Monday's schedule: ['Algebra: 9a.m', 'History: 11a.m', 'Biology: 1p.m', 'Swimming: 3p.m']\n"
          ]
        }
      ]
    }
  ]
}