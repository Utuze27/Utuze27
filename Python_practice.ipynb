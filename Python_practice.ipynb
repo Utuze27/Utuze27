{
  "nbformat": 4,
  "nbformat_minor": 0,
  "metadata": {
    "colab": {
      "name": "Python_practice.ipynb",
      "provenance": [],
      "authorship_tag": "ABX9TyO2gNJSh21/BWe2PrvJVgeI",
      "include_colab_link": true
    },
    "kernelspec": {
      "name": "python3",
      "display_name": "Python 3"
    },
    "language_info": {
      "name": "python"
    }
  },
  "cells": [
    {
      "cell_type": "markdown",
      "metadata": {
        "id": "view-in-github",
        "colab_type": "text"
      },
      "source": [
        "<a href=\"https://colab.research.google.com/github/Utuze27/Utuze27/blob/main/Python_practice.ipynb\" target=\"_parent\"><img src=\"https://colab.research.google.com/assets/colab-badge.svg\" alt=\"Open In Colab\"/></a>"
      ]
    },
    {
      "cell_type": "code",
      "metadata": {
        "colab": {
          "base_uri": "https://localhost:8080/"
        },
        "id": "xnN2EPntK8r9",
        "outputId": "ab167bc3-05ce-4ab7-9e84-567d0e1df48e"
      },
      "source": [
        "# filter() #\n",
        "\n",
        "ages =[5,12,17,18,24,32]\n",
        "def myFunc(x):\n",
        "  if x < 18:\n",
        "    return False\n",
        "  else:\n",
        "    return True\n",
        "adults = filter(myFunc, ages)\n",
        "\n",
        "for x in adults:\n",
        "  print(x)\n",
        "\n",
        "# Define function with parameters\n",
        "def product_info (productname, price):\n",
        "    print(\"Product Name: \" + productname)\n",
        "    print(\"Price: \"+ str(price))\n",
        "\n",
        "product_info(\"White T-Shirt\", 15)\n",
        "product_info(productname=\"Jeans\", price=45)\n"
      ],
      "execution_count": 8,
      "outputs": [
        {
          "output_type": "stream",
          "name": "stdout",
          "text": [
            "18\n",
            "24\n",
            "32\n",
            "Product Name: White T-Shirt\n",
            "Price: 15\n",
            "Product Name: Jeans\n",
            "Price: 45\n"
          ]
        }
      ]
    },
    {
      "cell_type": "code",
      "metadata": {
        "colab": {
          "base_uri": "https://localhost:8080/"
        },
        "id": "7e0LA5TVNL2E",
        "outputId": "411a511a-d758-400b-f13b-15c3a8f61bb4"
      },
      "source": [
        "# List and del() \n",
        "beta_list = [\"apple\", \"banana\", \"orange\"]\n",
        "del beta_list [1]\n",
        "print(beta_list)"
      ],
      "execution_count": 9,
      "outputs": [
        {
          "output_type": "stream",
          "name": "stdout",
          "text": [
            "['apple', 'orange']\n"
          ]
        }
      ]
    },
    {
      "cell_type": "code",
      "metadata": {
        "colab": {
          "base_uri": "https://localhost:8080/"
        },
        "id": "HN4I8xxXNln2",
        "outputId": "dae33555-5133-4005-db7e-8a5e8d1bf718"
      },
      "source": [
        "#Loop List\n",
        "beta_list = [\"apple\", \"banana\", \"orange\"]\n",
        "for x in range(1,4):\n",
        "  beta_list +=['fruit']\n",
        "  print(beta_list)"
      ],
      "execution_count": 10,
      "outputs": [
        {
          "output_type": "stream",
          "name": "stdout",
          "text": [
            "['apple', 'banana', 'orange', 'fruit']\n",
            "['apple', 'banana', 'orange', 'fruit', 'fruit']\n",
            "['apple', 'banana', 'orange', 'fruit', 'fruit', 'fruit']\n"
          ]
        }
      ]
    },
    {
      "cell_type": "code",
      "metadata": {
        "colab": {
          "base_uri": "https://localhost:8080/"
        },
        "id": "o0pQA4XMOPgX",
        "outputId": "5711f11c-1209-4804-ddd4-a9f047eab9bb"
      },
      "source": [
        "number_list = [x**2 for x in range(10) if x % 2 == 0]\n",
        "print(number_list)"
      ],
      "execution_count": 11,
      "outputs": [
        {
          "output_type": "stream",
          "name": "stdout",
          "text": [
            "[0, 4, 16, 36, 64]\n"
          ]
        }
      ]
    },
    {
      "cell_type": "code",
      "metadata": {
        "colab": {
          "base_uri": "https://localhost:8080/"
        },
        "id": "SS2CWVTmPZce",
        "outputId": "97a8c889-3d94-4c02-d880-e02a89f5fcd3"
      },
      "source": [
        "# Dictionary #\n",
        "\n",
        "new_dict={\n",
        "    \"brand\": \"Honda\",\n",
        "    \"model\": \"Civic\",\n",
        "    \"year\" : 1995\n",
        "}\n",
        "new_dict[\"year\"] = 2020\n",
        "print(new_dict)"
      ],
      "execution_count": 12,
      "outputs": [
        {
          "output_type": "stream",
          "name": "stdout",
          "text": [
            "{'brand': 'Honda', 'model': 'Civic', 'year': 2020}\n"
          ]
        }
      ]
    },
    {
      "cell_type": "code",
      "metadata": {
        "colab": {
          "base_uri": "https://localhost:8080/"
        },
        "id": "QA35mjjHP33L",
        "outputId": "311946ff-9d06-4a52-d56c-1694057d3122"
      },
      "source": [
        "# If and Elif statements\n",
        "a= 45\n",
        "b= 45\n",
        "if b>a:\n",
        "  print(\"b is greater than a\")\n",
        "elif a == b:\n",
        "  print(\"a and b are equal\")\n",
        "\n",
        "# If-not statements\n",
        "new_list = [1,2,3,4]\n",
        "x = 10\n",
        "if x not in new_list:\n",
        "  print(\"'x' isn't on the list, so this is true!\")"
      ],
      "execution_count": 14,
      "outputs": [
        {
          "output_type": "stream",
          "name": "stdout",
          "text": [
            "a and b are equal\n",
            "'x' isn't on the list, so this is true!\n"
          ]
        }
      ]
    },
    {
      "cell_type": "code",
      "metadata": {
        "colab": {
          "base_uri": "https://localhost:8080/"
        },
        "id": "5vX6BW8eQicx",
        "outputId": "3d23fc3f-072d-41cd-ab71-98b6047fabc1"
      },
      "source": [
        "# While loops\n",
        "i = 1\n",
        "while i<8:\n",
        "  print(i)\n",
        "  i += 1\n",
        "\n",
        "i = 1\n",
        "while i<8:\n",
        "  print(i)\n",
        "  if i == 4:\n",
        "    break\n",
        "  i += 1"
      ],
      "execution_count": 17,
      "outputs": [
        {
          "output_type": "stream",
          "name": "stdout",
          "text": [
            "1\n",
            "2\n",
            "3\n",
            "4\n",
            "5\n",
            "6\n",
            "7\n",
            "1\n",
            "2\n",
            "3\n",
            "4\n"
          ]
        }
      ]
    }
  ]
}